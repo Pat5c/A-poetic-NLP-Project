{
 "cells": [
  {
   "cell_type": "markdown",
   "metadata": {},
   "source": [
    "# Machine Learning Coursework 2 - Student Number 200546665_CW2\n"
   ]
  },
  {
   "cell_type": "markdown",
   "metadata": {},
   "source": [
    "## 1. Classifiers [7 marks total]\n"
   ]
  },
  {
   "cell_type": "code",
   "execution_count": 1,
   "metadata": {},
   "outputs": [],
   "source": [
    "# import datasets\n",
    "from sklearn import datasets \n",
    "\n",
    "# load data\n",
    "iris = datasets.load_iris() # load data \n",
    "#print(iris.DESCR) # print dataset description\n"
   ]
  },
  {
   "cell_type": "code",
   "execution_count": 2,
   "metadata": {},
   "outputs": [],
   "source": [
    "# Dataset pre-processing \n",
    "\n",
    "import pandas as pd\n",
    "import numpy as np\n",
    "\n",
    "# Adding the iris dataset into a dataframe\n",
    "iris_dataset = pd.DataFrame(iris.data, columns = iris.feature_names)\n",
    "\n",
    "# Adding the target column to my newly created dataset\n",
    "iris_dataset['target'] = iris.target\n",
    "iris_dataset\n",
    "\n",
    "# Placing dataset (first 4 columns) and target (last column) in X and y respectively \n",
    "X = iris_dataset.iloc[:,0:4].values\n",
    "y = iris_dataset.iloc[:,4].values\n"
   ]
  },
  {
   "cell_type": "markdown",
   "metadata": {},
   "source": [
    "### 1.1 Naïve Bayes Classifier [2]\n",
    "\n"
   ]
  },
  {
   "cell_type": "code",
   "execution_count": 3,
   "metadata": {},
   "outputs": [
    {
     "name": "stdout",
     "output_type": "stream",
     "text": [
      "              precision    recall  f1-score   support\n",
      "\n",
      "           0       1.00      1.00      1.00        10\n",
      "           1       1.00      1.00      1.00        13\n",
      "           2       1.00      1.00      1.00         7\n",
      "\n",
      "    accuracy                           1.00        30\n",
      "   macro avg       1.00      1.00      1.00        30\n",
      "weighted avg       1.00      1.00      1.00        30\n",
      "\n"
     ]
    }
   ],
   "source": [
    "#Write your code here      \n",
    "\n",
    "# Importing the necessary libraries\n",
    "import sklearn.metrics as metrics\n",
    "from sklearn.naive_bayes import GaussianNB\n",
    "from sklearn.model_selection import train_test_split\n",
    "\n",
    "# Splitting the dataset and the target in train and test datasets, for X and y\n",
    "X_train, X_test, y_train, y_test = train_test_split(X,y,test_size = .20, random_state = 10)\n",
    "\n",
    "# Creating a Gaussian Naive Bayes classifier and training it on the data\n",
    "NB = GaussianNB()\n",
    "NB.fit(X_train,y_train)\n",
    "\n",
    "# Predicting on the test data\n",
    "y_pred_NB = NB.predict(X_test)\n",
    "\n",
    "# Evaluating the model\n",
    "print(metrics.classification_report(y_test, y_pred_NB))"
   ]
  },
  {
   "cell_type": "markdown",
   "metadata": {},
   "source": [
    "### 1.2 Random Forest Classifier [3]\n",
    "\n"
   ]
  },
  {
   "cell_type": "code",
   "execution_count": 4,
   "metadata": {},
   "outputs": [
    {
     "name": "stdout",
     "output_type": "stream",
     "text": [
      "              precision    recall  f1-score   support\n",
      "\n",
      "           0       1.00      1.00      1.00        10\n",
      "           1       1.00      1.00      1.00        13\n",
      "           2       1.00      1.00      1.00         7\n",
      "\n",
      "    accuracy                           1.00        30\n",
      "   macro avg       1.00      1.00      1.00        30\n",
      "weighted avg       1.00      1.00      1.00        30\n",
      "\n",
      "importance \t feature name\n",
      "0.46 \t\t feature 2\n",
      "0.423 \t\t feature 3\n",
      "0.097 \t\t feature 0\n",
      "0.02 \t\t feature 1\n"
     ]
    },
    {
     "data": {
      "image/png": "[encoded data removed]",
      "text/plain": [
       "<Figure size 432x288 with 1 Axes>"
      ]
     },
     "metadata": {
      "needs_background": "light"
     },
     "output_type": "display_data"
    }
   ],
   "source": [
    "#Write your code here\n",
    "\n",
    "# Importing the necessary libraries\n",
    "from sklearn.ensemble import RandomForestClassifier\n",
    "import matplotlib.pyplot as plt\n",
    "%matplotlib inline\n",
    "\n",
    "# Creating a random forest classifier and training it on the data\n",
    "RF = RandomForestClassifier(n_estimators=100, random_state=10)\n",
    "RF.fit(X_train, y_train)\n",
    "\n",
    "# Predicting on the test data\n",
    "y_pred_RF = RF.predict(X_test)\n",
    "\n",
    "# Evaluating the model\n",
    "print(metrics.classification_report(y_test, y_pred_RF))\n",
    "\n",
    "# Evaluating feature performance of the model:\n",
    "\n",
    "# Getting the features names\n",
    "feature_names = [f\"feature {i}\" for i in range(X.shape[1])]\n",
    "\n",
    "# Getting the features importances\n",
    "importances = RF.feature_importances_\n",
    "\n",
    "# Printing out an ordered list of feature importances\n",
    "# First, Getting our features and weights\n",
    "feature_importance = sorted( zip(importances, feature_names), reverse=True)\n",
    "# Printing\n",
    "print('importance \\t feature name')\n",
    "print(\"\\n\".join(['{} \\t\\t {}'.format(round(i,3),f) for i,f in feature_importance]))\n",
    "\n",
    "# Visualising the feature importances:\n",
    "\n",
    "# First putting the importances into and ndarray\n",
    "forest_importances = pd.Series(importances, index=feature_names)\n",
    "\n",
    "# Getting the standard deviation of accumulation of the impurity decrease within each tree\n",
    "Standard_Deviation = np.std([tree.feature_importances_ for tree in RF.estimators_], axis=0)\n",
    "\n",
    "# Plotting the feature importances\n",
    "fig, ax = plt.subplots()\n",
    "forest_importances.plot.bar(yerr=Standard_Deviation, ax=ax)\n",
    "ax.set_title(\"Feature importances using Mean decrease in impurity\")\n",
    "ax.set_ylabel(\"Mean decrease in impurity\")\n",
    "fig.tight_layout()\n",
    "\n"
   ]
  },
  {
   "cell_type": "markdown",
   "metadata": {},
   "source": [
    "### 1.3 kNN Classifier [2]\n"
   ]
  },
  {
   "cell_type": "code",
   "execution_count": 5,
   "metadata": {},
   "outputs": [
    {
     "name": "stdout",
     "output_type": "stream",
     "text": [
      "              precision    recall  f1-score   support\n",
      "\n",
      "           0       1.00      1.00      1.00        10\n",
      "           1       1.00      0.92      0.96        13\n",
      "           2       0.88      1.00      0.93         7\n",
      "\n",
      "    accuracy                           0.97        30\n",
      "   macro avg       0.96      0.97      0.96        30\n",
      "weighted avg       0.97      0.97      0.97        30\n",
      "\n"
     ]
    }
   ],
   "source": [
    "#Write your code here\n",
    "\n",
    "# Importing the necessary libraries\n",
    "from sklearn.neighbors import KNeighborsClassifier\n",
    "\n",
    "# Creating a kNN classifier, with 1 neighbour and training it on the data\n",
    "KNN = KNeighborsClassifier(n_neighbors=1)\n",
    "KNN.fit(X_train,y_train)\n",
    "\n",
    "# Predicting on the test data\n",
    "y_pred_KNN = KNN.predict(X_test)\n",
    "\n",
    "# Evaluating the model\n",
    "print(metrics.classification_report(y_test, y_pred_KNN))\n",
    "\n"
   ]
  },
  {
   "cell_type": "markdown",
   "metadata": {},
   "source": [
    "## 2 Code Report [6 marks total]\n"
   ]
  },
  {
   "cell_type": "markdown",
   "metadata": {},
   "source": [
    "#Write your answer here\n",
    "\n",
    "Firstly, to make the dataset ready for the machine learning models, I convert the iris dataset (with the 4 feature names) into a dataframe and then append the column target at the end of it. The next step will be to make sure the dataset with the first 4 feature columns is placed in object X, while the column target is placed in object y. I then use the train_test_split tool, from the sklearn model selection package, to split the dataset and the target into train and test datasets. The test size is selected at 20% and the random state is fixed at 10 (this simply sets a seed to the random generator).\n",
    "\n",
    "For the Naïve Bayes Classifiers, the Gaussian Naïve Bayes (GaussianNB) package is imported from the sklearn naïve bayes package. This is a variant of Naive Bayes that follows Gaussian normal distribution; I chose this model because it is appropriate for continuous data. The model is first trained into the train dataset (X_train) and into the train target (y_train); then it is predicted on the test data. The evaluation of the model is done using the package metrics imported from the sklearn metrics library, where the test target is evaluated against the predictions.\n",
    "\n",
    "For the Random Forest Classifier, the RandomForestClassifier model is first imported. Random forest uses decision trees as its base predictor and also uses bagging; it is suitable to solve both regression and classification problems.\n",
    "In my code, the n_estimators is set at a default of 100, which indicates the number of decision trees that will be used in the random forest. Again, the model is first trained, then predicted on the test data and finally evaluated.\n",
    "To evaluate the feature performance of the model, I first get all of the features' names, then fit the random forest model into the feature importances which are provided by the fitted attribute feature_importances_. This, is calculated as the mean and standard deviation of accumulation of the impurity decrease within each tree.\n",
    "I then print the ordered list of feature importances, to review which are the most important.\n",
    "Finally, I visualise the feature importances in a bar graph. First, I transfer the feature importances into a numpy array and then I calculate the standard deviation of accumulation of the impurity decrease within each tree. I use matplotlib to plot the impurity-based importance, with the feature on the x axis and the mean decrease in impurity on the y axis.\n",
    "\n",
    "For the KNN Classifier, the KNeighborsClassifier package is imported and the number of neighbours is set at 1. \n",
    "KNN is an algorithm suitable for both regression and classification tasks and it essentially forms a majority vote between the K most similar instances to a given “unseen” observation. A new observation is classified by a majority vote of its neighbors, with the observation being assigned to the class most common amongst its K nearest neighbors, measured by a distance function.\n",
    "Again, the model is then trained, predicted and evaluated.\n",
    "\n",
    "\n"
   ]
  },
  {
   "cell_type": "markdown",
   "metadata": {},
   "source": [
    "## 3 Model Questions [14 marks total]\n"
   ]
  },
  {
   "cell_type": "markdown",
   "metadata": {},
   "source": [
    "### 3.1 Naïves Bayes Questions [4]"
   ]
  },
  {
   "cell_type": "markdown",
   "metadata": {},
   "source": [
    "#Write your answer here\n",
    "\n",
    "1- Let's start by defining what the zero probabilities issue in a Naive Bayes model is. The zero probabilities issue in a Naïve Bayes model occurs when an instance in the test data set has a category that was not present during training: the model will then assign it “0” probability and will not be able to make a prediction. \n",
    "In other words, if an individual class label is missing, then the frequency-based probability estimate will be zero. \n",
    "This issue raises issues because it impacts the output when all the likelihoods are multiplied (the output will be zero) causing the whole performance of the classification to be skewed and the model to be less accurate.\n",
    "\n",
    "\n",
    "2- We can avoid the problem of zero probabilities by simply adding number “1” to the count for every feature value-class combination when a feature value doesn’t occur with every class value.\n",
    "We are basically increasing the count of the variable with zero to a small value (usually 1) in the numerator, so that the overall probability doesn’t become zero.\n",
    "This will lead to the removal of all the zero values from the classes and, at the same time, will not impact the overall relative frequency of the classes.\n",
    "\n",
    "For example, let’s suppose the training data looks like this:\n",
    "\n",
    "|               | Setosa  | Versicolour  | Virginica  |\n",
    "|---------------|---------|--------------|------------|\n",
    "| Sepal length  | 10      | 5            | 8          |\n",
    "| Sepal width   | 0       | 0            | 0          |\n",
    "|               |         |              |            |\n",
    "\n",
    "P(Sepal = length | Setosa) = 10/10 =1\n",
    "\n",
    "P(Sepal = width | Setosa) = 0/10 =0\n",
    "\n",
    "\n",
    "To fix the “0”, we should add one to every value in this table when calculating the probabilities:\n",
    "\n",
    "|               | Setosa  | Versicolour  | Virginica  |\n",
    "|---------------|---------|--------------|------------|\n",
    "| Sepal length  | 11      | 6            | 9          |\n",
    "| Sepal width   | 1       | 1            | 1          |\n",
    "|               |         |              |            |\n",
    "\n",
    "P(Sepal = length | Setosa) = 11/12 = 0.92\n",
    "\n",
    "P(Sepal = width | Setosa) = 1/12 = 0.08\n",
    "\n",
    "As we can see by the results, the zero probability has been resolved.\n",
    "\n",
    "Additionally, this is how I will avoid the problem with a pseudocode:\n",
    "- Defining the probability of each of the classes.\n",
    "- We end up with probabilities, where an element is the probability of feature f having value v, given the class c.\n",
    "- For every probability where we have counts of zero in the numerator, we add an alpha parameter or smoothing parameter which is ≠ 0: this will solve the problem of zero probabilities in our Naïve Bayes model.\n",
    "- We use the probabilities calculated above to compute the model."
   ]
  },
  {
   "cell_type": "markdown",
   "metadata": {},
   "source": [
    "### 3.2 Random Forest Questions [6]\n"
   ]
  },
  {
   "cell_type": "markdown",
   "metadata": {},
   "source": [
    "#Write your answer here\n",
    "\n",
    "1- With an importance (or a mean decrease in impurity) calculated at 0.46, the most important feature from my random forest classifier, is feature 2: \"petal length\" (as also shown in the sorted feature importance table and visualized in the bar graph, coded above). See below a comprehensive summary:\n",
    "\n",
    "| Importance  |  Feature name              |   |\n",
    "|-------------|----------------------------|---|\n",
    "| 0.46        |  feature 2 > petal length  |   |\n",
    "| 0.423       |  feature 3 > petal width   |   |\n",
    "| 0.097       |  feature 0 > sepal length  |   |\n",
    "| 0.02        |  feature 1 > sepal width   |   |\n",
    "\n",
    "\n",
    "\n",
    "\n",
    "2- Starting from the fact that with all 4 features included in my random forest classifier, the accuracy (and all the other metrics) are calculated as a perfect 1.00, to increase accuracy of the model (or, more specifically, in this case, to maintain the same level of perfect accuracy) both the features with less importance \"sepal length\" & \"sepal width\" can be removed.\n",
    "\n",
    "The code below, shows the changes in the evaluation metrics when:\n",
    "\n",
    "a) the feature \"sepal width\" is removed from the dataset;\n",
    "\n",
    "b) the feature \"sepal length\" is removed from the dataset;\n",
    "\n",
    "c) both the features \"sepal width\" & \"sepal length\" are removed from the dataset.\n",
    "\n",
    "As outlined in the code below, for each, newly formed detaset, I first split the dataset into new train and test sets, then train the random forest classifier, predict and finally evaluate the new model.\n",
    "\n",
    "\n",
    "\n",
    "\n",
    "\n",
    "\n"
   ]
  },
  {
   "cell_type": "code",
   "execution_count": 6,
   "metadata": {},
   "outputs": [
    {
     "name": "stdout",
     "output_type": "stream",
     "text": [
      "              precision    recall  f1-score   support\n",
      "\n",
      "           0       1.00      1.00      1.00        10\n",
      "           1       1.00      0.92      0.96        13\n",
      "           2       0.88      1.00      0.93         7\n",
      "\n",
      "    accuracy                           0.97        30\n",
      "   macro avg       0.96      0.97      0.96        30\n",
      "weighted avg       0.97      0.97      0.97        30\n",
      "\n"
     ]
    }
   ],
   "source": [
    "# a)\n",
    "# Removing feature/column \"sepal width\" from the dataset\n",
    "X_1 = iris_dataset[['sepal length (cm)', 'petal length (cm)', 'petal width (cm)']]\n",
    "X_1\n",
    "\n",
    "# Splitting the new dataset and the target in train and test datasets, for X_1 and y\n",
    "X_train, X_test, y_train, y_test = train_test_split(X_1,y,test_size = .20, random_state = 10)\n",
    "\n",
    "# Creating a random forest classifier and training it on the data\n",
    "RF_1 = RandomForestClassifier(n_estimators=100, random_state=10)\n",
    "RF_1.fit(X_train, y_train)\n",
    "\n",
    "# Predicting on the test data\n",
    "y_pred_RF_1= RF_1.predict(X_test)\n",
    "\n",
    "# Evaluating the model\n",
    "print(metrics.classification_report(y_test, y_pred_RF_1))"
   ]
  },
  {
   "cell_type": "code",
   "execution_count": 7,
   "metadata": {},
   "outputs": [
    {
     "name": "stdout",
     "output_type": "stream",
     "text": [
      "              precision    recall  f1-score   support\n",
      "\n",
      "           0       1.00      1.00      1.00        10\n",
      "           1       1.00      0.92      0.96        13\n",
      "           2       0.88      1.00      0.93         7\n",
      "\n",
      "    accuracy                           0.97        30\n",
      "   macro avg       0.96      0.97      0.96        30\n",
      "weighted avg       0.97      0.97      0.97        30\n",
      "\n"
     ]
    }
   ],
   "source": [
    "# b)\n",
    "# Removing feature/column \"sepal length\" from the dataset\n",
    "\n",
    "X_2 = iris_dataset[['sepal width (cm)', 'petal length (cm)', 'petal width (cm)']]\n",
    "X_2\n",
    "\n",
    "# Splitting the new dataset and the target in train and test datasets, for X_2 and y\n",
    "X_train, X_test, y_train, y_test = train_test_split(X_2,y,test_size = .20, random_state = 10)\n",
    "\n",
    "# Creating a random forest classifier and training it on the data\n",
    "RF_2 = RandomForestClassifier(n_estimators=100, random_state=10)\n",
    "RF_2.fit(X_train, y_train)\n",
    "\n",
    "# Predicting on the test data\n",
    "y_pred_RF_2 = RF_2.predict(X_test)\n",
    "\n",
    "# Evaluating the model\n",
    "print(metrics.classification_report(y_test, y_pred_RF_2))"
   ]
  },
  {
   "cell_type": "code",
   "execution_count": 8,
   "metadata": {},
   "outputs": [
    {
     "name": "stdout",
     "output_type": "stream",
     "text": [
      "              precision    recall  f1-score   support\n",
      "\n",
      "           0       1.00      1.00      1.00        10\n",
      "           1       1.00      1.00      1.00        13\n",
      "           2       1.00      1.00      1.00         7\n",
      "\n",
      "    accuracy                           1.00        30\n",
      "   macro avg       1.00      1.00      1.00        30\n",
      "weighted avg       1.00      1.00      1.00        30\n",
      "\n"
     ]
    }
   ],
   "source": [
    "# c)\n",
    "# Removing both columns \"sepal width\" & \"sepal length\"\n",
    "\n",
    "X_3 = iris_dataset[['petal length (cm)', 'petal width (cm)']]\n",
    "X_3\n",
    "\n",
    "# Splitting the new dataset and the target in train and test datasets, for X_3 and y\n",
    "X_train, X_test, y_train, y_test = train_test_split(X_3,y,test_size = .20, random_state = 10)\n",
    "\n",
    "# Creating a random forest classifier and training it on the data\n",
    "RF_3 = RandomForestClassifier(n_estimators=100, random_state=10)\n",
    "RF_3.fit(X_train, y_train)\n",
    "\n",
    "# Predicting on the test data\n",
    "y_pred_RF_3 = RF_3.predict(X_test)\n",
    "\n",
    "# Evaluating the model\n",
    "print(metrics.classification_report(y_test, y_pred_RF_3))"
   ]
  },
  {
   "cell_type": "markdown",
   "metadata": {},
   "source": [
    "To summarize the evaluation results for each of the newly formed datasets (with focus on the model accuracy), the below table has been created.\n",
    "\n",
    "\n",
    "|                                                      | Model Accuracy |   |\n",
    "|------------------------------------------------------|----------|---|\n",
    "| All 4 features included                              | 1.00     |   |\n",
    "| Without feature \"sepal width\"                        | 0.97     |   |\n",
    "| Without feature \"sepal length\"                       | 0.97     |   |\n",
    "| Without both features \"sepal length\" & \"sepal width\" | 1.00     |   |\n",
    "\n",
    "As we can see, removing EITHER feature \"sepal width\" OR feature \"sepal length\" actually decrease the accuracy of the model!\n",
    "While removing BOTH these low importance features increase and mantains the accuracy (and all the other metrics) at a perfect score 1.00.\n",
    "\n",
    "\n",
    "\n",
    "3- It would be useful to remove these features because, overall, the more trustworthy the computed importances are, the more accurate the model is.\n",
    "Leaving less important features in the dataset may cause issues in terms of model performance.\n",
    "As we know, random forests consist of a number of decision trees. Every node in the decision trees is a condition on a single feature, designed to split the dataset so that similar response values end up in the same set. Impurity is the measure based on which the local optimal condition is chosen. So, when training a tree, it can be computed how much each feature decreases the weighted impurity in a tree: you want to select only the important features which optimize the decrease of impurity so that when each individual tree is trained on a random subset of the features and when trees are combined, there is little correlation between them, reducing the risk of over-fitting and the risk of building dependencies between trees.\n",
    "\n",
    "\n"
   ]
  },
  {
   "cell_type": "markdown",
   "metadata": {},
   "source": [
    "### 3.3 kNN Questions [4]\n"
   ]
  },
  {
   "cell_type": "markdown",
   "metadata": {},
   "source": [
    "#Write your answer here\n",
    "\n",
    "1- I think the iris dataset is well suited to the kNN classifier.\n",
    "As we know, the kNN algorithm is a type of supervised ML algorithm which can be used for both classification as well as regression predictive problems. However, it is mainly used for classification predictive problems in many industries.\n",
    "KNN performs better with a lower number of features and it proves to be very sensitive to the scale of the dataset as it can be influenced negatively by irrelevant features.\n",
    "We can say that when the number of features increases then more data is required, leading towards an increase in dimension which can consequently lead to the problem of overfitting.\n",
    "The Iris Flower Dataset is a dataset made of 150 observations under 5 features: Petal Length, Petal Width, Sepal Length, Sepal width and Class (or Species). There are 3 classes, making this a multiclass classification problem as it involves predicting the flower species, given measurements of iris flowers.\n",
    "The Iris dataset appears to be suited to KNN, because it is a clean and fairly small classification dataset, with the three classes (setosa, virginica, and versicolor) being perfectly balanced. \n",
    "The features are only 4 and are all continuous, which also makes measuring the Euclidean distances in the kNN and calculating the accuracy much simpler. \n",
    "\n",
    "\n",
    "2- The ideal dataset will have 2 or more classes, making it a binary or multiclass classification problem.\n",
    "The dataset would be fairly small with lower dimensionality (not more than 5 features, < 200 observations) display no missing data, balanced and contain only continuous observations.\n",
    "Ideally, we want features which are more relevant to the class and less relevant to other features (minimum correlation).\n",
    "Since kNN calculates the Euclidean distance between points to determine the nearest neighbouring points, it is important that all of the data is also on the same scale. \n",
    "This could be achieved by normalizing the dataset, for example, in range 0-1. Not only this is useful when calculating the distance measures, as kNN uses also feature values, when one feature values is larger than the others, that feature can dominate the distance and affect the outcome of the KNN, so normalizing the dataset becomes really important.\n"
   ]
  },
  {
   "cell_type": "markdown",
   "metadata": {},
   "source": [
    "## 4 Comparing Models [18 marks total]\n"
   ]
  },
  {
   "cell_type": "markdown",
   "metadata": {},
   "source": [
    "### 4.1 Compare each model [3]\n"
   ]
  },
  {
   "cell_type": "markdown",
   "metadata": {},
   "source": [
    "#Write your answer here\n",
    "\n",
    "The main differences I see between the 3 classifiers is in regards to the evaluation metrics: for all 4 features, while both the Naïve Bayes and the Random Forest Classifier score perfect accuracy, precision, recall and f1-score of 1.00 for all classes, the KNN scores 1.00 in precision, recall and f1-score for class 0, but only 0.92 and 0.96 in recall and f1-score for class 1 and only 0.88 in precision and 0.93 in f1-score for class 2.\n",
    "An accuracy of 0.97 makes this model the less accurate of the three.\n",
    "More specifically, only 88% of precision (which is the ability of the classifier not to label an instance positive that is actually negative) means that only 88% of predictions were correct for class 2.\n",
    "The recall (which explains what percent of the positive cases were actually caught) shows that 92% positive instances were found for class 1.\n",
    "Finally, the f1-score (which shows what percent of positive predictions were correct) is 96% for class 1 and 93% for class 2.\n",
    "\n",
    "These results show that the Naïve Bayes and Random Forest Classifiers are best suited for this dataset, compared to the kNN classifier.\n",
    "\n"
   ]
  },
  {
   "cell_type": "markdown",
   "metadata": {},
   "source": [
    "### 4.2 Accuracy [6]\n"
   ]
  },
  {
   "cell_type": "markdown",
   "metadata": {},
   "source": [
    "#Write your answer here\n",
    "\n",
    "Both the Naïve Bayes and the Random Forest Classifier score perfect accuracy of 1.00, While the kNN classifier scores 0.97 in accuracy making it the less accurate model of the three.\n",
    "The kNN classifier and the relative accuracy, could be affected by the fact that the dataset is not normalized so the features with biggest Euclidean distance, may influence the performance of the model. \n",
    "Alternatively, it could be the case that some features are irrelevant and affect the performance of the model negatively.\n",
    "\n",
    "I want to test both these 2 hypotheses.\n",
    "\n",
    "1-\tIn the code below, I have used the MinMaxScaler from Sci-Kit Learn to scale the dataset from 0 to 1. I have then split the dataset and applied the kNN classifier on the new dataset, keeping the number of neighbours at 1.\n"
   ]
  },
  {
   "cell_type": "code",
   "execution_count": 9,
   "metadata": {},
   "outputs": [
    {
     "data": {
      "text/html": [
       "<div>\n",
       "<style scoped>\n",
       "    .dataframe tbody tr th:only-of-type {\n",
       "        vertical-align: middle;\n",
       "    }\n",
       "\n",
       "    .dataframe tbody tr th {\n",
       "        vertical-align: top;\n",
       "    }\n",
       "\n",
       "    .dataframe thead th {\n",
       "        text-align: right;\n",
       "    }\n",
       "</style>\n",
       "<table border=\"1\" class=\"dataframe\">\n",
       "  <thead>\n",
       "    <tr style=\"text-align: right;\">\n",
       "      <th></th>\n",
       "      <th>sepal length (cm)</th>\n",
       "      <th>sepal width (cm)</th>\n",
       "      <th>petal length (cm)</th>\n",
       "      <th>petal width (cm)</th>\n",
       "    </tr>\n",
       "  </thead>\n",
       "  <tbody>\n",
       "    <tr>\n",
       "      <th>0</th>\n",
       "      <td>0.222222</td>\n",
       "      <td>0.625000</td>\n",
       "      <td>0.067797</td>\n",
       "      <td>0.041667</td>\n",
       "    </tr>\n",
       "    <tr>\n",
       "      <th>1</th>\n",
       "      <td>0.166667</td>\n",
       "      <td>0.416667</td>\n",
       "      <td>0.067797</td>\n",
       "      <td>0.041667</td>\n",
       "    </tr>\n",
       "    <tr>\n",
       "      <th>2</th>\n",
       "      <td>0.111111</td>\n",
       "      <td>0.500000</td>\n",
       "      <td>0.050847</td>\n",
       "      <td>0.041667</td>\n",
       "    </tr>\n",
       "    <tr>\n",
       "      <th>3</th>\n",
       "      <td>0.083333</td>\n",
       "      <td>0.458333</td>\n",
       "      <td>0.084746</td>\n",
       "      <td>0.041667</td>\n",
       "    </tr>\n",
       "    <tr>\n",
       "      <th>4</th>\n",
       "      <td>0.194444</td>\n",
       "      <td>0.666667</td>\n",
       "      <td>0.067797</td>\n",
       "      <td>0.041667</td>\n",
       "    </tr>\n",
       "  </tbody>\n",
       "</table>\n",
       "</div>"
      ],
      "text/plain": [
       "   sepal length (cm)  sepal width (cm)  petal length (cm)  petal width (cm)\n",
       "0           0.222222          0.625000           0.067797          0.041667\n",
       "1           0.166667          0.416667           0.067797          0.041667\n",
       "2           0.111111          0.500000           0.050847          0.041667\n",
       "3           0.083333          0.458333           0.084746          0.041667\n",
       "4           0.194444          0.666667           0.067797          0.041667"
      ]
     },
     "execution_count": 9,
     "metadata": {},
     "output_type": "execute_result"
    }
   ],
   "source": [
    "# Scaling the iris dataset\n",
    "\n",
    "# Importing the necessary library\n",
    "from sklearn.preprocessing import MinMaxScaler\n",
    "scaler = MinMaxScaler()\n",
    "\n",
    "# Adding the iris dataset into a dataframe\n",
    "iris_dataset = pd.DataFrame(iris.data, columns = iris.feature_names)\n",
    "\n",
    "# Scaling the first 4 features columns of the iris dataset\n",
    "iris_scaled = pd.DataFrame(scaler.fit_transform(iris_dataset), columns=iris_dataset.columns)\n",
    "iris_scaled.head()\n"
   ]
  },
  {
   "cell_type": "code",
   "execution_count": 10,
   "metadata": {},
   "outputs": [
    {
     "name": "stdout",
     "output_type": "stream",
     "text": [
      "              precision    recall  f1-score   support\n",
      "\n",
      "           0       1.00      1.00      1.00        10\n",
      "           1       1.00      0.92      0.96        13\n",
      "           2       0.88      1.00      0.93         7\n",
      "\n",
      "    accuracy                           0.97        30\n",
      "   macro avg       0.96      0.97      0.96        30\n",
      "weighted avg       0.97      0.97      0.97        30\n",
      "\n"
     ]
    }
   ],
   "source": [
    "# Placing the scaled dataset and the target in X and y respectively \n",
    "X = iris_scaled\n",
    "y = iris.target\n",
    "\n",
    "# Splitting the dataset and the target in train and test datasets, for X and y\n",
    "X_train, X_test, y_train, y_test = train_test_split(X,y,test_size = .20, random_state = 10)\n",
    "\n",
    "# Creating a kNN classifier, with 1 neighbour and training it on the data\n",
    "KNN = KNeighborsClassifier(n_neighbors=1)\n",
    "KNN.fit(X_train,y_train)\n",
    "\n",
    "# Predicting on the test data\n",
    "y_pred_KNN = KNN.predict(X_test)\n",
    "\n",
    "# Evaluating the model\n",
    "print(metrics.classification_report(y_test, y_pred_KNN))\n",
    "\n"
   ]
  },
  {
   "cell_type": "markdown",
   "metadata": {},
   "source": [
    "Scaling the dataset, does not improve the performance of the kNN model. The results in the evaluation and the accuracy are the same as in with the non-scaled dataset.\n",
    "\n",
    "Let's try the second hypothesis now: removing the less important features.\n",
    "\n",
    "2- I will be removing the previously calculated less important features.\n",
    "In more detail, in the code below I have:\n",
    "\n",
    "a) removed the feature \"sepal width\" from the dataset & re-trained the kNN classifier, predicted and evaluated the model;\n",
    "\n",
    "b) removed the feature \"sepal length\" from the dataset & re-trained the kNN classifier, predicted and evaluated the model;\n",
    "\n",
    "c) removed both the features \"sepal width\" & \"sepal length\" from the dataset & re-trained the kNN classifier, predicted and evaluated the model.\n",
    "\n",
    "\n",
    "\n"
   ]
  },
  {
   "cell_type": "code",
   "execution_count": 11,
   "metadata": {},
   "outputs": [
    {
     "name": "stdout",
     "output_type": "stream",
     "text": [
      "              precision    recall  f1-score   support\n",
      "\n",
      "           0       1.00      1.00      1.00        10\n",
      "           1       1.00      0.92      0.96        13\n",
      "           2       0.88      1.00      0.93         7\n",
      "\n",
      "    accuracy                           0.97        30\n",
      "   macro avg       0.96      0.97      0.96        30\n",
      "weighted avg       0.97      0.97      0.97        30\n",
      "\n"
     ]
    }
   ],
   "source": [
    "# a)\n",
    "# Removing feature/column \"sepal width\" from the dataset\n",
    "X_1 = iris_dataset[['sepal length (cm)', 'petal length (cm)', 'petal width (cm)']]\n",
    "X_1\n",
    "\n",
    "# Splitting the new dataset and the target in train and test datasets, for X_1 and y\n",
    "X_train, X_test, y_train, y_test = train_test_split(X_1,y,test_size = .20, random_state = 10)\n",
    "\n",
    "# Creating a kNN classifier, with 1 neighbour and training it on the data\n",
    "KNN_1 = KNeighborsClassifier(n_neighbors=1)\n",
    "KNN_1.fit(X_train,y_train)\n",
    "\n",
    "# Predicting on the test data\n",
    "y_pred_KNN_1 = KNN_1.predict(X_test)\n",
    "\n",
    "# Evaluating the model\n",
    "print(metrics.classification_report(y_test, y_pred_KNN_1))"
   ]
  },
  {
   "cell_type": "code",
   "execution_count": 12,
   "metadata": {},
   "outputs": [
    {
     "name": "stdout",
     "output_type": "stream",
     "text": [
      "              precision    recall  f1-score   support\n",
      "\n",
      "           0       1.00      1.00      1.00        10\n",
      "           1       1.00      1.00      1.00        13\n",
      "           2       1.00      1.00      1.00         7\n",
      "\n",
      "    accuracy                           1.00        30\n",
      "   macro avg       1.00      1.00      1.00        30\n",
      "weighted avg       1.00      1.00      1.00        30\n",
      "\n"
     ]
    }
   ],
   "source": [
    "# b)\n",
    "# Removing feature/column \"sepal length\" from the dataset\n",
    "X_2 = iris_dataset[['sepal width (cm)', 'petal length (cm)', 'petal width (cm)']]\n",
    "X_2\n",
    "\n",
    "# Splitting the new dataset and the target in train and test datasets, for X_2 and y\n",
    "X_train, X_test, y_train, y_test = train_test_split(X_2,y,test_size = .20, random_state = 10)\n",
    "\n",
    "# Creating a kNN classifier, with 1 neighbour and training it on the data\n",
    "KNN_2 = KNeighborsClassifier(n_neighbors=1)\n",
    "KNN_2.fit(X_train,y_train)\n",
    "\n",
    "# Predicting on the test data\n",
    "y_pred_KNN_2 = KNN_2.predict(X_test)\n",
    "\n",
    "# Evaluating the model\n",
    "print(metrics.classification_report(y_test, y_pred_KNN_2))"
   ]
  },
  {
   "cell_type": "code",
   "execution_count": 13,
   "metadata": {},
   "outputs": [
    {
     "name": "stdout",
     "output_type": "stream",
     "text": [
      "              precision    recall  f1-score   support\n",
      "\n",
      "           0       1.00      1.00      1.00        10\n",
      "           1       1.00      0.92      0.96        13\n",
      "           2       0.88      1.00      0.93         7\n",
      "\n",
      "    accuracy                           0.97        30\n",
      "   macro avg       0.96      0.97      0.96        30\n",
      "weighted avg       0.97      0.97      0.97        30\n",
      "\n"
     ]
    }
   ],
   "source": [
    "# c)\n",
    "# Removing both features/columns \"sepal width\" & \"sepal length\"\n",
    "X_3 = iris_dataset[['petal length (cm)', 'petal width (cm)']]\n",
    "X_3\n",
    "\n",
    "# Splitting the new dataset and the target in train and test datasets, for X_3 and y\n",
    "X_train, X_test, y_train, y_test = train_test_split(X_3,y,test_size = .20, random_state = 10)\n",
    "\n",
    "# Creating a kNN classifier, with 1 neighbour and training it on the data\n",
    "KNN_3 = KNeighborsClassifier(n_neighbors=1)\n",
    "KNN_3.fit(X_train,y_train)\n",
    "\n",
    "# Predicting on the test data\n",
    "y_pred_KNN_3 = KNN_3.predict(X_test)\n",
    "\n",
    "# Evaluating the model\n",
    "print(metrics.classification_report(y_test, y_pred_KNN_3))\n"
   ]
  },
  {
   "cell_type": "markdown",
   "metadata": {},
   "source": [
    "Removing the second less important feature \"sepal length\" from the dataset, improves the performance of the model, gaining a perfect accuracy score of 1.00.\n",
    "\n",
    "While, removing all other features cause no changes to the performance of the model: the accuracy and the other evaluation metrics remain unchanged.\n"
   ]
  },
  {
   "cell_type": "markdown",
   "metadata": {},
   "source": [
    "### 4.3 Appropriate Use [9]\n"
   ]
  },
  {
   "cell_type": "markdown",
   "metadata": {},
   "source": [
    "#Write your answer here\n",
    "\n",
    "- The Naïve Bayes Classifier is appropriate to use with text classification problems that include a high-dimensional training dataset.\n",
    "This algorithm is popular for multi-class predictions as well. Some popular real-world examples of Naïve Bayes Algorithm use are spam filtration, sentimental analysis (which refers to the identification of positive or negative sentiments of a target group) or articles classification.\n",
    "In the case study of spam detection with Naive Bayes by Fernando, L. (2022), on a dataset of 4327 emails, a naive bayes classifier is used to classify a given email as spam or ham depending on its content.\n",
    "Overall, using a total of 170 Features the classifier achieves a success rate of about 94.80% being able to correctly categorize spam emails 95/100 times.\n",
    "Naïve Bayes Classifier is an appropriate model for this use-case, because the dataset is a text (non-numeric) and it is quite high in dimensionality. This is a binary classification problem, where this algorithm performs pretty well.\n",
    "\n",
    "\n",
    "- Random Forest Classifier is appropriate to use for both classification and regression tasks.\n",
    "It can handle a large proportion of data with higher dimensionality, while maintaining the accuracy and managing missing values.\n",
    "The more random the forest training in terms of bootstrapping training data, and the more random the feature selection is, the better the algorithm will perform. \n",
    "Random forests are computationally advantageous because of bagging: they allow each classifier to operate in parallel; and because they're based on the fast decision tree algorithm.\n",
    "There are many real-world situations in which Random Forest can be used. A few examples are: the banking industry for credit card fraud detection, in the healthcare and medicine for breast cancer prediction or in the stock market for bitcoin price detection or even in the e-commerce for product recommendation.\n",
    "In more detail, let’s analyse the credit card fraud detection example. In this project by MansiMeena (2013), Random Forest was used to identify fraud in European credit card transactions. The dataset used, is hosted on Kaggle and is made up of transactions made in September 2013. The dataset contains 284,807 transactions that occurred over a two-day period. Of these, 492 (0.17%) are indeed fraudulent. Each transaction has 30, all numerical, features.\n",
    "Random Forest is an appropriate model for this use-case, because this a binary classification problem where the dataset is particularly large and with very high dimensionality. In the project, it was possible to accurately identify fraudulent transactions: on a 20% test set, the predictions from the random forest model had an F1 score of 0.869: a better result compared to other models!\n",
    "\n",
    "\n",
    "\n",
    "- kNN Classifier can be used for both classification and regression predictive problems, however, is more appropriate to use for classification tasks. \n",
    "kNN is most useful with labelled data and it can achieve high accuracy in a wide variety of prediction-type problems. It’s also used in many other different areas, such as image and video recognition, handwriting detection, but also to search semantically similar documents.\n",
    "This specific study from Musa, O., Malik, A., Buna, I., Lasena, M., Rizal Isnanto, R. and Suryono, S. (2018) focuses on the application of the K-Nearest Neighbour algorithm in the expert system for diagnosing lung disease, according to its type.\n",
    "The dataset comprises of 12 types of lung disease and 133 observations and the results of the predictions carried out by the kNN, produce a high accuracy of 96.97% and thus making it able to detect accurately lung disease. \n",
    "kNN is an appropriate model for this use-case, because it is a classification problem with labelled data (type of lung diseases) .\n",
    "The dataset is also fairly small with lower dimensionality making kNN the most suitable algorithm.\n",
    "\n",
    "\n",
    "\n",
    "\n"
   ]
  },
  {
   "cell_type": "markdown",
   "metadata": {},
   "source": [
    "### REFERENCES:\n",
    "\n",
    " - Tiwari, M. (2020). Iris Data set Analysis using KNN - Analytics Vidhya - Medium. [online] Medium. Available at: https://medium.com/analytics-vidhya/iris-data-set-analysis-using-knn-bfea147423ee [Accessed 13 Feb. 2022].\n",
    " \n",
    "- scikit-learn. (2021). Feature importances with a forest of trees. [online] Available at: https://scikit-learn.org/stable/auto_examples/ensemble/plot_forest_importances.html [Accessed 13 Feb. 2022].\n",
    "\n",
    "\n",
    "- London.ac.uk. (2021). Course: Machine learning (DSM040-2021-OCT), Topic: Solutions to Jupyter Notebooks. [online] Available at: https://learn.london.ac.uk/course/view.php?id=585§ion=15 [Accessed 13 Feb. 2022].\n",
    "\n",
    "\n",
    "- Fernando, L. (2022). Case Study: Spam Detection With Naive Bayes. [online] Github.io. Available at: https://ljfernando.github.io/SpamDetectionNaiveBayes/ [Accessed 20 Feb. 2022].\n",
    "\n",
    "\n",
    "- Meena, M. (2020). Applications of Random Forest. [online] OpenGenus IQ: Computing Expertise & Legacy. Available at: https://iq.opengenus.org/applications-of-random-forest/ [Accessed 20 Feb. 2022].\n",
    "\n",
    "\n",
    "- MansiMeena (2013). GitHub - MansiMeena/Credit-Card-Fraud-Detection. [online] GitHub. Available at: https://github.com/MansiMeena/Credit-Card-Fraud-Detection [Accessed 4 Mar. 2022].\n",
    "\n",
    "\n",
    "- Musa, O., Malik, A., Buna, I., Lasena, M., Rizal Isnanto, R. and Suryono, S. (2018). Application Of K-Nearest Neighbor (K-NN) Algorithm On Lung Disease Diagnosis Expert System. International Journal of Scientific & Engineering Research, [online] 9. Available at: https://www.ijser.org/researchpaper/Application-Of-K-Nearest-Neighbor-K-NN-Algorithm-On-Lung-Disease-Diagnosis-Expert-System.pdf.\n",
    "\n",
    "\n",
    "- Fernando, L. (2022). Case Study: Spam Detection With Naive Bayes. [online] Github.io. Available at: https://ljfernando.github.io/SpamDetectionNaiveBayes/ [Accessed 4 Mar. 2022]\n",
    "\n",
    "\n",
    "\n",
    "\n",
    "\n",
    "\n",
    "\n",
    "\n",
    "\n",
    "\n",
    "\n"
   ]
  }
 ],
 "metadata": {
  "kernelspec": {
   "display_name": "Python 3",
   "language": "python",
   "name": "python3"
  },
  "language_info": {
   "codemirror_mode": {
    "name": "ipython",
    "version": 3
   },
   "file_extension": ".py",
   "mimetype": "text/x-python",
   "name": "python",
   "nbconvert_exporter": "python",
   "pygments_lexer": "ipython3",
   "version": "3.8.3"
  }
 },
 "nbformat": 4,
 "nbformat_minor": 5
}
